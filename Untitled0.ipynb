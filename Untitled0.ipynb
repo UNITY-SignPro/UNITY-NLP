{
  "cells": [
    {
      "cell_type": "code",
      "execution_count": null,
      "metadata": {
        "colab": {
          "base_uri": "https://localhost:8080/"
        },
        "id": "G_h9TG6Fq8r8",
        "outputId": "24c57808-4e11-4af6-c150-f0f61bd5bd7e"
      },
      "outputs": [],
      "source": [
        "%%bash\n",
        "apt-get update\n",
        "apt-get install g++ openjdk-8-jdk python-dev python3-dev\n",
        "pip3 install JPype1\n",
        "pip3 install konlpy"
      ]
    },
    {
      "cell_type": "code",
      "execution_count": null,
      "metadata": {
        "colab": {
          "base_uri": "https://localhost:8080/"
        },
        "id": "ypt9OXO-rMJl",
        "outputId": "a5f74d03-afaf-4f1f-f961-dc6309c3c4bb"
      },
      "outputs": [],
      "source": [
        "%%bash\n",
        "bash <(curl -s https://raw.githubusercontent.com/konlpy/konlpy/master/scripts/mecab.sh)\n",
        "pip3 install /tmp/mecab-python-0.996"
      ]
    },
    {
      "cell_type": "code",
      "execution_count": null,
      "metadata": {
        "id": "Jxoc15I7rQnI"
      },
      "outputs": [],
      "source": [
        "import konlpy\n",
        "from konlpy.tag import Kkma, Komoran, Hannanum, Okt\n",
        "from konlpy.utils import pprint\n",
        "from konlpy.tag import Mecab"
      ]
    },
    {
      "cell_type": "markdown",
      "metadata": {
        "id": "hFbUFsvBtoU-"
      },
      "source": []
    },
    {
      "cell_type": "code",
      "execution_count": null,
      "metadata": {
        "colab": {
          "base_uri": "https://localhost:8080/"
        },
        "id": "pS_i0oG5r2CD",
        "outputId": "8936d47d-adfd-4987-9f45-8baef3838b74"
      },
      "outputs": [
        {
          "name": "stdout",
          "output_type": "stream",
          "text": [
            "문장 입력하시오:밥을 먹었어\n",
            "# Print whole tree\n",
            "(S (NP 밥/NNG) 을/JKO (VV 먹/VV) 었/EP (EC 어/EC))\n",
            "None\n",
            "밥\n",
            "먹\n",
            "밥, 먹다, \n"
          ]
        }
      ],
      "source": [
        "#! /usr/bin/python2.7\n",
        "# -*- coding: utf-8 -*-\n",
        "\n",
        "import konlpy\n",
        "import nltk\n",
        "\n",
        "# POS tag a sentence\n",
        "sentence= input(\"문장 입력하시오:\")\n",
        "words = Mecab().pos(sentence)\n",
        "outplist= \"\"\n",
        "\n",
        "# Define a chunk grammar, or chunking rules, then chunk\n",
        "grammar = \"\"\"\n",
        "NP: {<N.*>*<Suffix>?}   # Noun phrase\n",
        "VV: {<VV.*>*}            # Verb phrase\n",
        "AP: {<VA.*>*}            # Adjective phrase\n",
        "MP: {<M.*>*}\n",
        "EC: {<EC.*>*}\n",
        "\n",
        "\"\"\"\n",
        "parser = nltk.RegexpParser(grammar)\n",
        "chunks = parser.parse(words)\n",
        "print(\"# Print whole tree\")\n",
        "\n",
        "print(chunks.pprint())\n",
        "\n",
        "\n",
        "for subtree in chunks.subtrees():\n",
        "    if subtree.label()=='NP':\n",
        "        print(' '.join((e[0] for e in list(subtree))))\n",
        "        outplist= outplist+' '.join((e[0] for e in list(subtree)))+\", \"\n",
        "      \n",
        "    if  subtree.label()=='VV':\n",
        "        print(' '.join((e[0] for e in list(subtree))))\n",
        "        outplist= outplist+' '.join((e[\n",
        "            0] for e in list(subtree)))+\"다, \"\n",
        "        \n",
        "    if  subtree.label()=='AP':\n",
        "        print(' '.join((e[0] for e in list(subtree))))\n",
        "        outplist= outplist+' '.join((e[0] for e in list(subtree)))+\"다, \"\n",
        "        \n",
        "    if  subtree.label()=='MP':\n",
        "        print(' '.join((e[0] for e in list(subtree))))\n",
        "        outplist= outplist+' '.join((e[0] for e in list(subtree)))+\", \"\n",
        "\n",
        "\n",
        "print(outplist)"
      ]
    },
    {
      "cell_type": "code",
      "execution_count": null,
      "metadata": {
        "id": "_MzJyt9qvWUv"
      },
      "outputs": [],
      "source": []
    }
  ],
  "metadata": {
    "colab": {
      "provenance": []
    },
    "kernelspec": {
      "display_name": "Python 3.8.8 ('base')",
      "language": "python",
      "name": "python3"
    },
    "language_info": {
      "name": "python",
      "version": "3.8.8"
    },
    "vscode": {
      "interpreter": {
        "hash": "d7288e82646d3164eca24130947288f8779d11454649f2c02a5dfc42af7f324c"
      }
    }
  },
  "nbformat": 4,
  "nbformat_minor": 0
}
