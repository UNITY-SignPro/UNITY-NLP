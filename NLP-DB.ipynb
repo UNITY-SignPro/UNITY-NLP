{
  "cells": [
    {
      "cell_type": "code",
      "execution_count": null,
      "metadata": {
        "colab": {
          "base_uri": "https://localhost:8080/"
        },
        "id": "G_h9TG6Fq8r8",
        "outputId": "35debf61-7cc1-4d8d-e4e2-1a49ce62533c"
      },
      "outputs": [],
      "source": [
        "# %%bash\n",
        "# apt-get update\n",
        "# apt-get install g++ openjdk-8-jdk python-dev python3-dev\n",
        "# pip3 install JPype1\n",
        "# pip3 install konlpy"
      ]
    },
    {
      "cell_type": "code",
      "execution_count": 2,
      "metadata": {
        "colab": {
          "base_uri": "https://localhost:8080/"
        },
        "id": "iSmkbJ31E90W",
        "outputId": "133bdee5-f125-4426-ea60-ac4ade949bf3"
      },
      "outputs": [],
      "source": [
        "# from google.colab import drive\n",
        "import pandas as pd\n",
        "import numpy as np\n",
        "import re\n",
        "# drive.mount('/content/gdrive')\n",
        "\n"
      ]
    },
    {
      "cell_type": "code",
      "execution_count": 3,
      "metadata": {
        "id": "C7DGWeiVWBDb"
      },
      "outputs": [],
      "source": [
        "import sqlite3\n",
        "conn = sqlite3.connect('./function/words.db')\n",
        "excel_sheet_1 = pd.read_csv('인간.csv')\n",
        "\n",
        "c = conn.cursor()  # 커서 생성\n",
        "\n",
        "c.execute('''CREATE TABLE IF NOT EXISTS word\n",
        "            (origin text, rename text)''')\n",
        "\n",
        "# c.execute('''CREATE TABLE word (origin text, chanword text)''')\n",
        "\n",
        "\n",
        "# type(excel_sheet_1)\n",
        "excel_sheet_1=list(np.array(excel_sheet_1.values.tolist()))\n",
        "# excel_sheet_2=list(np.array(excel_sheet_2.values.tolist()))\n",
        "\n",
        "def formmating(word):\n",
        "    return re.sub(pattern=r'\\([^)]*\\)', repl='', string= word).strip()"
      ]
    },
    {
      "cell_type": "code",
      "execution_count": 4,
      "metadata": {
        "colab": {
          "base_uri": "https://localhost:8080/"
        },
        "id": "1KwHBQvZfGCQ",
        "outputId": "629666a3-624a-4b3b-a442-5d737a3b5790"
      },
      "outputs": [],
      "source": [
        "for origin, rename in iter(excel_sheet_1):\n",
        "# for idx in range(len(excel_sheet_1)):\n",
        "    # print(formmating(origin))\n",
        "    c.execute(\"INSERT INTO word VALUES(?,?);\", (formmating(origin), formmating(rename)))\n"
      ]
    },
    {
      "cell_type": "code",
      "execution_count": null,
      "metadata": {
        "colab": {
          "base_uri": "https://localhost:8080/"
        },
        "id": "tvkhHg7qUnlU",
        "outputId": "d0afca35-a6d0-4ff4-e2f2-8d0428967bff"
      },
      "outputs": [],
      "source": [
        "price=c.execute(\"SELECT * FROM word\")\n",
        "price = c.fetchall()\n",
        "print(price)"
      ]
    },
    {
      "cell_type": "code",
      "execution_count": null,
      "metadata": {
        "colab": {
          "base_uri": "https://localhost:8080/"
        },
        "id": "ypt9OXO-rMJl",
        "outputId": "2245c797-184b-4001-9c41-7da48b22c89c"
      },
      "outputs": [],
      "source": [
        "# %%bash\n",
        "# bash <(curl -s https://raw.githubusercontent.com/konlpy/konlpy/master/scripts/mecab.sh)\n",
        "# pip3 install /tmp/mecab-python-0.996"
      ]
    },
    {
      "cell_type": "code",
      "execution_count": 4,
      "metadata": {
        "id": "Jxoc15I7rQnI"
      },
      "outputs": [],
      "source": [
        "import konlpy\n",
        "from konlpy.tag import Kkma, Komoran, Hannanum, Okt\n",
        "from konlpy.utils import pprint\n",
        "from konlpy.tag import Mecab"
      ]
    },
    {
      "cell_type": "code",
      "execution_count": 5,
      "metadata": {
        "colab": {
          "base_uri": "https://localhost:8080/"
        },
        "id": "lEYfHyJXrxZm",
        "outputId": "15f6eeba-6cf1-4f2e-a3dd-89955a795721"
      },
      "outputs": [
        {
          "name": "stdout",
          "output_type": "stream",
          "text": [
            "문장 입력rhldl\n"
          ]
        },
        {
          "data": {
            "text/plain": [
              "['rhldl']"
            ]
          },
          "execution_count": 5,
          "metadata": {},
          "output_type": "execute_result"
        }
      ],
      "source": [
        "mecab = Mecab()\n",
        "\n",
        "sentence = input(\"문장 입력\")\n",
        "temp_X = mecab.morphs(sentence)\n",
        "temp_X"
      ]
    },
    {
      "cell_type": "code",
      "execution_count": 30,
      "metadata": {
        "id": "iIIRsxqIgpUH"
      },
      "outputs": [],
      "source": [
        "def chan(word):\n",
        "  return c.execute(f\"SELECT * FROM word WHERE origin = '{word}'\").fetchone()"
      ]
    },
    {
      "cell_type": "code",
      "execution_count": 31,
      "metadata": {},
      "outputs": [
        {
          "data": {
            "text/plain": [
              "('나체', '맨몸')"
            ]
          },
          "execution_count": 31,
          "metadata": {},
          "output_type": "execute_result"
        }
      ],
      "source": [
        "chan(\"나체\")"
      ]
    },
    {
      "cell_type": "markdown",
      "metadata": {
        "id": "hFbUFsvBtoU-"
      },
      "source": []
    },
    {
      "cell_type": "code",
      "execution_count": 51,
      "metadata": {
        "colab": {
          "base_uri": "https://localhost:8080/"
        },
        "id": "pS_i0oG5r2CD",
        "outputId": "259690a1-740a-439b-d2cb-adcd77b29db9"
      },
      "outputs": [
        {
          "name": "stdout",
          "output_type": "stream",
          "text": [
            "문장 입력하시오:야구보러가자 오늘 이길거야\n",
            "# Print whole tree\n",
            "(S\n",
            "  (NP 야구/NNG)\n",
            "  (VV 보/VV)\n",
            "  (EC 러/EC)\n",
            "  가/VX\n",
            "  (EC 자/EC)\n",
            "  (MP 오늘/MAG)\n",
            "  (VV 이길/VV+ETM)\n",
            "  (NP 거/NNB)\n",
            "  야/VCP+EF)\n",
            "None\n",
            "야구\n",
            "보\n",
            "오늘\n",
            "이길\n",
            "거\n",
            "['야구', ' 보다', ' 오늘', ' 이길다', ' 거', ' ']\n"
          ]
        }
      ],
      "source": [
        "#! /usr/bin/python2.7\n",
        "# -*- coding: utf-8 -*-\n",
        "\n",
        "import konlpy\n",
        "import nltk\n",
        "import json \n",
        "\n",
        "# POS tag a sentence\n",
        "sentence= input(\"문장 입력하시오:\")\n",
        "words = Mecab().pos(sentence)\n",
        "outplist= \"\"\n",
        "verb=\"\"\n",
        "noun=\"\"\n",
        "# Define a chunk grammar, or chunking rules, then chunk\n",
        "grammar = \"\"\"\n",
        "NP: {<N.*>*<Suffix>?}   # Noun phrase\n",
        "VV: {<VV.*>*}            # Verb phrase\n",
        "AP: {<VA.*>*}            # Adjective phrase\n",
        "MP: {<M.*>*}\n",
        "EC: {<EC.*>*}\n",
        "\n",
        "\"\"\"\n",
        "parser = nltk.RegexpParser(grammar)\n",
        "chunks = parser.parse(words)\n",
        "print(\"# Print whole tree\")\n",
        "\n",
        "print(chunks.pprint())\n",
        "\n",
        "\n",
        "for subtree in chunks.subtrees():\n",
        "    if subtree.label()=='NP':\n",
        "        print(' '.join((e[0] for e in list(subtree))))\n",
        "        outplist= outplist+' '.join((e[0] for e in list(subtree)))+\", \"\n",
        "        noun= noun+' '.join((e[0] for e in list(subtree)))+\", \"\n",
        "    if  subtree.label()=='VV':\n",
        "        print(' '.join((e[0] for e in list(subtree))))\n",
        "        outplist= outplist+' '.join((e[\n",
        "            0] for e in list(subtree)))+\"다, \"\n",
        "        verb= verb+' '.join((e[0] for e in list(subtree)))+\"다, \"\n",
        "        \n",
        "        \n",
        "    if  subtree.label()=='AP':\n",
        "        print(' '.join((e[0] for e in list(subtree))))\n",
        "        outplist= outplist+' '.join((e[0] for e in list(subtree)))+\"다, \"\n",
        "        verb= verb+' '.join((e[0] for e in list(subtree)))+\"다, \"\n",
        "    if  subtree.label()=='MP':\n",
        "        print(' '.join((e[0] for e in list(subtree))))\n",
        "        outplist= outplist+' '.join((e[0] for e in list(subtree)))+\", \"\n",
        "        noun= noun+' '.join((e[0] for e in list(subtree)))+\", \"\n",
        "verb=verb.split(\",\")\n",
        "noun=noun.split(\",\")\n",
        "json_object = {\n",
        "    \"noun\": noun,\n",
        "    \"verb\": verb\n",
        "}\n",
        "\n",
        "with open('output.json', 'w') as f:\n",
        "    json.dump(json_object, f, indent=2)\n",
        "      \n",
        "outplist=outplist.split(\",\")\n",
        "\n",
        "print(outplist)\n",
        "# for i in outplist:\n",
        "#   print(i)\n",
        "#   print(chan(outplist))"
      ]
    },
    {
      "cell_type": "code",
      "execution_count": null,
      "metadata": {
        "id": "v84jWeX6edWz"
      },
      "outputs": [],
      "source": []
    }
  ],
  "metadata": {
    "colab": {
      "collapsed_sections": [],
      "provenance": []
    },
    "kernelspec": {
      "display_name": "Python 3.9.7 ('base')",
      "language": "python",
      "name": "python3"
    },
    "language_info": {
      "codemirror_mode": {
        "name": "ipython",
        "version": 3
      },
      "file_extension": ".py",
      "mimetype": "text/x-python",
      "name": "python",
      "nbconvert_exporter": "python",
      "pygments_lexer": "ipython3",
      "version": "3.9.7"
    },
    "vscode": {
      "interpreter": {
        "hash": "acdb6e634d1758aed18af0c5ee82e08acc34e44f002707299558f7d9ca4da9e0"
      }
    }
  },
  "nbformat": 4,
  "nbformat_minor": 0
}
